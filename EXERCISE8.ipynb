{
 "cells": [
  {
   "cell_type": "code",
   "execution_count": 5,
   "id": "4869f8b3-5bfd-49a8-91a9-11b5855a6ae7",
   "metadata": {},
   "outputs": [],
   "source": [
    "def BMI():\n",
    "    BMI=int(input(\"Enter the BMI\"))\n",
    "    if (BMI<18.5):\n",
    "        print(\"Underweight\")\n",
    "        message=\"Underweight\"\n",
    "    elif(BMI>18.5 and BMI<24.9):\n",
    "        print(\"Normal weight\")\n",
    "        message=\"Normal weight\"\n",
    "    elif(BMI>25 and BMI<29.9):\n",
    "        print(\"Overweight\")\n",
    "        message=\"Overweight\"\n",
    "    elif(BMI>30 and BMI<39.9):\n",
    "        print(\"oBESITY\")\n",
    "        message=\"oBESITY\"\n",
    "    else:\n",
    "        print(\"extreme obesity\")\n",
    "        MESSAGE=\"extreme obesity\"\n",
    "    return message"
   ]
  },
  {
   "cell_type": "code",
   "execution_count": 7,
   "id": "270979b7-b981-4ac9-aeb2-9b526c1d1057",
   "metadata": {},
   "outputs": [
    {
     "name": "stdin",
     "output_type": "stream",
     "text": [
      "Enter the BMI 35\n"
     ]
    },
    {
     "name": "stdout",
     "output_type": "stream",
     "text": [
      "oBESITY\n"
     ]
    },
    {
     "data": {
      "text/plain": [
       "'oBESITY'"
      ]
     },
     "execution_count": 7,
     "metadata": {},
     "output_type": "execute_result"
    }
   ],
   "source": [
    "BMI()"
   ]
  },
  {
   "cell_type": "code",
   "execution_count": null,
   "id": "1293c64b-5caa-46b7-a0a3-e0be301963f2",
   "metadata": {},
   "outputs": [],
   "source": []
  }
 ],
 "metadata": {
  "kernelspec": {
   "display_name": "Python 3 (ipykernel)",
   "language": "python",
   "name": "python3"
  },
  "language_info": {
   "codemirror_mode": {
    "name": "ipython",
    "version": 3
   },
   "file_extension": ".py",
   "mimetype": "text/x-python",
   "name": "python",
   "nbconvert_exporter": "python",
   "pygments_lexer": "ipython3",
   "version": "3.12.4"
  }
 },
 "nbformat": 4,
 "nbformat_minor": 5
}
