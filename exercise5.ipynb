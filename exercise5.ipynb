{
 "cells": [
  {
   "cell_type": "code",
   "execution_count": 3,
   "id": "0f81f6be-2667-4227-9a63-b189d2a6b25c",
   "metadata": {},
   "outputs": [
    {
     "name": "stdin",
     "output_type": "stream",
     "text": [
      "Enter the number 4\n"
     ]
    },
    {
     "name": "stdout",
     "output_type": "stream",
     "text": [
      "Even number\n"
     ]
    }
   ],
   "source": [
    "num=int(input(\"Enter the number\"))\n",
    "if(num%2==0):\n",
    "    print(\"Even number\")\n",
    "else:\n",
    "    print(\"Odd number\")"
   ]
  },
  {
   "cell_type": "code",
   "execution_count": 5,
   "id": "729d2296-0f42-4e5d-a3ac-3ab977c54564",
   "metadata": {},
   "outputs": [
    {
     "name": "stdin",
     "output_type": "stream",
     "text": [
      "Enter the number 7\n"
     ]
    },
    {
     "name": "stdout",
     "output_type": "stream",
     "text": [
      "Odd number\n"
     ]
    }
   ],
   "source": [
    "num=int(input(\"Enter the number\"))\n",
    "if(num%2==0):\n",
    "    print(\"Even number\")\n",
    "else:\n",
    "    print(\"Odd number\")"
   ]
  },
  {
   "cell_type": "code",
   "execution_count": 7,
   "id": "f5e7b48d-ccec-4311-8692-9f7f1c2325cc",
   "metadata": {},
   "outputs": [
    {
     "data": {
      "text/plain": [
       "range(0, 10)"
      ]
     },
     "execution_count": 7,
     "metadata": {},
     "output_type": "execute_result"
    }
   ],
   "source": [
    "range(0,10)"
   ]
  },
  {
   "cell_type": "code",
   "execution_count": 11,
   "id": "f47f1bc4-8d80-47a6-aa84-0bd7d212243a",
   "metadata": {},
   "outputs": [
    {
     "name": "stdout",
     "output_type": "stream",
     "text": [
      "range(0, 10)\n"
     ]
    }
   ],
   "source": [
    "print(range(0,10))"
   ]
  },
  {
   "cell_type": "code",
   "execution_count": 19,
   "id": "1339f572-0661-46d0-bbf8-fce3666a2cf7",
   "metadata": {},
   "outputs": [
    {
     "name": "stdout",
     "output_type": "stream",
     "text": [
      "0\n",
      "1\n",
      "2\n",
      "3\n",
      "4\n",
      "5\n",
      "6\n",
      "7\n",
      "8\n",
      "9\n"
     ]
    }
   ],
   "source": [
    "for num in range(0,10,):\n",
    "    print(num)"
   ]
  },
  {
   "cell_type": "code",
   "execution_count": 21,
   "id": "8760cafc-645b-4983-b2ec-28532faa55c6",
   "metadata": {},
   "outputs": [
    {
     "data": {
      "text/plain": [
       "range(25, 35)"
      ]
     },
     "execution_count": 21,
     "metadata": {},
     "output_type": "execute_result"
    }
   ],
   "source": [
    "range(25,35)"
   ]
  },
  {
   "cell_type": "code",
   "execution_count": 23,
   "id": "74d8a8be-e473-4412-a431-26f0e24d11e8",
   "metadata": {},
   "outputs": [
    {
     "name": "stdout",
     "output_type": "stream",
     "text": [
      "range(25, 35)\n"
     ]
    }
   ],
   "source": [
    "print(range(25,35))"
   ]
  },
  {
   "cell_type": "code",
   "execution_count": 25,
   "id": "8eb296ec-8fc3-47f3-862c-718e23c02946",
   "metadata": {},
   "outputs": [
    {
     "name": "stdout",
     "output_type": "stream",
     "text": [
      "25\n",
      "28\n",
      "31\n",
      "34\n"
     ]
    }
   ],
   "source": [
    "for num in range(25,35,3):\n",
    "    print(num)\n"
   ]
  },
  {
   "cell_type": "code",
   "execution_count": 21,
   "id": "3935ecf8-5b0c-44a4-b842-d06adc03ca45",
   "metadata": {},
   "outputs": [
    {
     "data": {
      "text/plain": [
       "range(25, 35)"
      ]
     },
     "execution_count": 21,
     "metadata": {},
     "output_type": "execute_result"
    }
   ],
   "source": [
    "range(25,35)"
   ]
  },
  {
   "cell_type": "code",
   "execution_count": 23,
   "id": "4f0c0c89-84db-412a-b2f3-83b63fedae5a",
   "metadata": {},
   "outputs": [
    {
     "name": "stdout",
     "output_type": "stream",
     "text": [
      "range(25, 35)\n"
     ]
    }
   ],
   "source": [
    "print(range(25,35))"
   ]
  },
  {
   "cell_type": "code",
   "execution_count": 27,
   "id": "0f762293-31fd-4667-bafa-31e84cea6d72",
   "metadata": {},
   "outputs": [
    {
     "name": "stdout",
     "output_type": "stream",
     "text": [
      "25\n",
      "30\n"
     ]
    }
   ],
   "source": [
    "for num in range(25,35,5):\n",
    "    print(num)\n"
   ]
  },
  {
   "cell_type": "code",
   "execution_count": 29,
   "id": "93e1f0f8-3443-4d27-b8ee-542143206ddf",
   "metadata": {},
   "outputs": [
    {
     "data": {
      "text/plain": [
       "range(100, 500)"
      ]
     },
     "execution_count": 29,
     "metadata": {},
     "output_type": "execute_result"
    }
   ],
   "source": [
    "range(100,500)"
   ]
  },
  {
   "cell_type": "code",
   "execution_count": 33,
   "id": "ce85d0c8-3ba2-4784-bd81-d3c102aa429a",
   "metadata": {},
   "outputs": [
    {
     "name": "stdout",
     "output_type": "stream",
     "text": [
      "range(100, 500)\n"
     ]
    }
   ],
   "source": [
    "print(range(100,500))"
   ]
  },
  {
   "cell_type": "code",
   "execution_count": 39,
   "id": "5f4315c6-c738-4ca7-9f07-ee643a9d412a",
   "metadata": {},
   "outputs": [
    {
     "name": "stdout",
     "output_type": "stream",
     "text": [
      "100\n",
      "150\n",
      "200\n",
      "250\n",
      "300\n",
      "350\n",
      "400\n",
      "450\n"
     ]
    }
   ],
   "source": [
    "for num in range(100,500,50):\n",
    "    print(num)"
   ]
  },
  {
   "cell_type": "code",
   "execution_count": null,
   "id": "06c38b26-2342-46b9-b7a6-f96195b7c770",
   "metadata": {},
   "outputs": [],
   "source": []
  }
 ],
 "metadata": {
  "kernelspec": {
   "display_name": "Python 3 (ipykernel)",
   "language": "python",
   "name": "python3"
  },
  "language_info": {
   "codemirror_mode": {
    "name": "ipython",
    "version": 3
   },
   "file_extension": ".py",
   "mimetype": "text/x-python",
   "name": "python",
   "nbconvert_exporter": "python",
   "pygments_lexer": "ipython3",
   "version": "3.12.4"
  }
 },
 "nbformat": 4,
 "nbformat_minor": 5
}
