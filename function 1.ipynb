{
 "cells": [
  {
   "cell_type": "code",
   "execution_count": 21,
   "id": "b9226d9d-109e-4adb-8eed-0887ffcfc458",
   "metadata": {},
   "outputs": [],
   "source": [
    "def agecategory():\n",
    "    if (age<18):\n",
    "        print(\"Children\")\n",
    "        cate=\"Children\"\n",
    "    elif (age<35):\n",
    "        print(\"Adult\")\n",
    "        cate=\"Adult\"\n",
    "    elif(age<59):\n",
    "        print(\"Citizen\")\n",
    "        cate=\"Citizen\"\n",
    "    else:\n",
    "        print(\"sr.citizen\")\n",
    "        cate=\"sr.Citizen\"\n",
    "    return cate\n",
    "        "
   ]
  },
  {
   "cell_type": "code",
   "execution_count": 23,
   "id": "55406020-66ad-4218-aeaa-1f4ced2c8e59",
   "metadata": {},
   "outputs": [
    {
     "name": "stdin",
     "output_type": "stream",
     "text": [
      "Enter the age: 25\n"
     ]
    },
    {
     "name": "stdout",
     "output_type": "stream",
     "text": [
      "Adult\n"
     ]
    }
   ],
   "source": [
    "age=int(input(\"Enter the age:\"))\n",
    "agecate=agecategory()\n"
   ]
  },
  {
   "cell_type": "code",
   "execution_count": 25,
   "id": "306d1a5a-1dec-461e-8861-25458a0b9908",
   "metadata": {},
   "outputs": [
    {
     "name": "stdout",
     "output_type": "stream",
     "text": [
      "Adult\n"
     ]
    }
   ],
   "source": [
    "print(agecate)"
   ]
  },
  {
   "cell_type": "code",
   "execution_count": 35,
   "id": "7c205f83-18c2-4e23-821b-e20708727c2a",
   "metadata": {},
   "outputs": [],
   "source": [
    "def agecategorynor():\n",
    "    if (age<18):\n",
    "        print(\"Children\")\n",
    "        cate=\"Children\"\n",
    "    elif (age<35):\n",
    "        print(\"Adult\")\n",
    "        cate=\"Adult\"\n",
    "    elif(age<59):\n",
    "        print(\"Citizen\")\n",
    "        cate=\"Citizen\"\n",
    "    else:\n",
    "        print(\"sr.citizen\")\n",
    "        cate=\"sr.Citizen\"\n",
    "    \n",
    "        "
   ]
  },
  {
   "cell_type": "code",
   "execution_count": 37,
   "id": "6c7ccfc9-db62-47f0-857f-7f87d0998cf7",
   "metadata": {},
   "outputs": [
    {
     "name": "stdin",
     "output_type": "stream",
     "text": [
      "Enter the age: 34\n"
     ]
    },
    {
     "name": "stdout",
     "output_type": "stream",
     "text": [
      "Adult\n"
     ]
    }
   ],
   "source": [
    "age=int(input(\"Enter the age:\"))\n",
    "agecate=agecategorynor()\n"
   ]
  },
  {
   "cell_type": "code",
   "execution_count": 39,
   "id": "56c25949-2952-4da0-aa19-9766f3c3ceee",
   "metadata": {},
   "outputs": [
    {
     "name": "stdout",
     "output_type": "stream",
     "text": [
      "None\n"
     ]
    }
   ],
   "source": [
    "print(agecate)"
   ]
  },
  {
   "cell_type": "code",
   "execution_count": null,
   "id": "5723ea6f-c3df-4bff-a374-018f70f96bce",
   "metadata": {},
   "outputs": [],
   "source": []
  }
 ],
 "metadata": {
  "kernelspec": {
   "display_name": "Python 3 (ipykernel)",
   "language": "python",
   "name": "python3"
  },
  "language_info": {
   "codemirror_mode": {
    "name": "ipython",
    "version": 3
   },
   "file_extension": ".py",
   "mimetype": "text/x-python",
   "name": "python",
   "nbconvert_exporter": "python",
   "pygments_lexer": "ipython3",
   "version": "3.12.4"
  }
 },
 "nbformat": 4,
 "nbformat_minor": 5
}
