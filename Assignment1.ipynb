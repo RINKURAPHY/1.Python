{
 "cells": [
  {
   "cell_type": "code",
   "execution_count": 1,
   "id": "42db219f-4705-439d-b90e-0469abd9023c",
   "metadata": {},
   "outputs": [
    {
     "name": "stdout",
     "output_type": "stream",
     "text": [
      "welcome to assignment\n"
     ]
    }
   ],
   "source": [
    "print(\"welcome to assignment\")"
   ]
  },
  {
   "cell_type": "code",
   "execution_count": 19,
   "id": "d5ac1f41-5eb6-45b7-9f9f-876719f83f03",
   "metadata": {},
   "outputs": [
    {
     "name": "stdout",
     "output_type": "stream",
     "text": [
      "add\n",
      "40\n"
     ]
    }
   ],
   "source": [
    "num1=10\n",
    "num2=30\n",
    "add=num1+num2\n",
    "print(\"add\")\n",
    "print(add)"
   ]
  },
  {
   "cell_type": "code",
   "execution_count": 33,
   "id": "23f0587c-d734-48ea-a6f4-ca2374edaefa",
   "metadata": {},
   "outputs": [
    {
     "name": "stdin",
     "output_type": "stream",
     "text": [
      "Enter the BMI 34\n"
     ]
    }
   ],
   "source": [
    "BMI=int(input(\"Enter the BMI\"))\n"
   ]
  },
  {
   "cell_type": "code",
   "execution_count": 35,
   "id": "88682580-cc63-4175-b829-523afbcc51ad",
   "metadata": {},
   "outputs": [
    {
     "name": "stdout",
     "output_type": "stream",
     "text": [
      "oBESITY\n"
     ]
    }
   ],
   "source": [
    "if (BMI<18.5):\n",
    "    print(\"Underweight\")\n",
    "elif(BMI>18.5 and BMI<24.9):\n",
    "    print(\"Normal weight\")\n",
    "elif(BMI>25 and BMI<29.9):\n",
    "    print(\"Overweight\")\n",
    "elif(BMI>30 and BMI<39.9):\n",
    "    print(\"oBESITY\")\n",
    "else:\n",
    "    print(\"extreme obesity\")\n",
    "    "
   ]
  },
  {
   "cell_type": "code",
   "execution_count": null,
   "id": "fc6d5e84-7ab9-47d3-9825-a4dc1e657a41",
   "metadata": {},
   "outputs": [],
   "source": []
  }
 ],
 "metadata": {
  "kernelspec": {
   "display_name": "Python 3 (ipykernel)",
   "language": "python",
   "name": "python3"
  },
  "language_info": {
   "codemirror_mode": {
    "name": "ipython",
    "version": 3
   },
   "file_extension": ".py",
   "mimetype": "text/x-python",
   "name": "python",
   "nbconvert_exporter": "python",
   "pygments_lexer": "ipython3",
   "version": "3.12.4"
  }
 },
 "nbformat": 4,
 "nbformat_minor": 5
}
