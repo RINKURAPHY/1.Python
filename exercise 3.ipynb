{
 "cells": [
  {
   "cell_type": "code",
   "execution_count": 7,
   "id": "63aa902a-6eb0-4c5c-8532-ee0210cacf16",
   "metadata": {},
   "outputs": [
    {
     "name": "stdin",
     "output_type": "stream",
     "text": [
      "Enter any number between 1 to 7: 1\n"
     ]
    }
   ],
   "source": [
    "num=int(input(\"Enter any number between 1 to 7:\"))"
   ]
  },
  {
   "cell_type": "code",
   "execution_count": 5,
   "id": "c7d23d51-9ce4-43e5-b924-b47a2527dc60",
   "metadata": {},
   "outputs": [
    {
     "name": "stdout",
     "output_type": "stream",
     "text": [
      "Sunday\n"
     ]
    }
   ],
   "source": [
    "if (num==1):\n",
    "    print(\"Sunday\")\n",
    "elif (num==2):\n",
    "    print(\"Monday\")\n",
    "elif (num==3):\n",
    "    print(\"Tuesday\")\n",
    "elif (num==4):\n",
    "    print(\"Wednesday\")\n",
    "elif (num==5):\n",
    "    print(\"Thursday\")\n",
    "elif (num==6):\n",
    "    print(\"Friday\")\n",
    "else:\n",
    "    print(\"Enter any number between 1 to 7\")\n",
    "    "
   ]
  },
  {
   "cell_type": "code",
   "execution_count": 9,
   "id": "5a058e91-1e1d-4a34-928e-242487998e52",
   "metadata": {},
   "outputs": [
    {
     "name": "stdin",
     "output_type": "stream",
     "text": [
      "Enter any number between 1 to 7: 2\n"
     ]
    }
   ],
   "source": [
    "num=int(input(\"Enter any number between 1 to 7:\"))"
   ]
  },
  {
   "cell_type": "code",
   "execution_count": 11,
   "id": "7bb13ec5-2530-4e6e-8ca4-94d965224539",
   "metadata": {},
   "outputs": [
    {
     "name": "stdout",
     "output_type": "stream",
     "text": [
      "Monday\n"
     ]
    }
   ],
   "source": [
    "if (num==1):\n",
    "    print(\"Sunday\")\n",
    "elif (num==2):\n",
    "    print(\"Monday\")\n",
    "elif (num==3):\n",
    "    print(\"Tuesday\")\n",
    "elif (num==4):\n",
    "    print(\"Wednesday\")\n",
    "elif (num==5):\n",
    "    print(\"Thursday\")\n",
    "elif (num==6):\n",
    "    print(\"Friday\")\n",
    "else:\n",
    "    print(\"Enter any number between 1 to 7\")\n",
    "    "
   ]
  },
  {
   "cell_type": "code",
   "execution_count": 13,
   "id": "3d863af9-2e33-4c16-be30-1f763393a14b",
   "metadata": {},
   "outputs": [
    {
     "name": "stdin",
     "output_type": "stream",
     "text": [
      "Enter any number between 1 to 7: 3\n"
     ]
    }
   ],
   "source": [
    "num=int(input(\"Enter any number between 1 to 7:\"))"
   ]
  },
  {
   "cell_type": "code",
   "execution_count": 15,
   "id": "efc9baa5-b508-4091-ab1a-520c248fe492",
   "metadata": {},
   "outputs": [
    {
     "name": "stdout",
     "output_type": "stream",
     "text": [
      "Tuesday\n"
     ]
    }
   ],
   "source": [
    "if (num==1):\n",
    "    print(\"Sunday\")\n",
    "elif (num==2):\n",
    "    print(\"Monday\")\n",
    "elif (num==3):\n",
    "    print(\"Tuesday\")\n",
    "elif (num==4):\n",
    "    print(\"Wednesday\")\n",
    "elif (num==5):\n",
    "    print(\"Thursday\")\n",
    "elif (num==6):\n",
    "    print(\"Friday\")\n",
    "else:\n",
    "    print(\"Enter any number between 1 to 7\")\n",
    "    "
   ]
  },
  {
   "cell_type": "code",
   "execution_count": 19,
   "id": "0e76370e-1d97-4fb2-bfc6-0be9ef0f5d54",
   "metadata": {},
   "outputs": [
    {
     "name": "stdin",
     "output_type": "stream",
     "text": [
      "Enter any number between 1 to 7: 4\n"
     ]
    }
   ],
   "source": [
    "num=int(input(\"Enter any number between 1 to 7:\"))"
   ]
  },
  {
   "cell_type": "code",
   "execution_count": 21,
   "id": "8c977a68-67db-406d-b272-b41420baecdb",
   "metadata": {},
   "outputs": [
    {
     "name": "stdout",
     "output_type": "stream",
     "text": [
      "Wednesday\n"
     ]
    }
   ],
   "source": [
    "if (num==1):\n",
    "    print(\"Sunday\")\n",
    "elif (num==2):\n",
    "    print(\"Monday\")\n",
    "elif (num==3):\n",
    "    print(\"Tuesday\")\n",
    "elif (num==4):\n",
    "    print(\"Wednesday\")\n",
    "elif (num==5):\n",
    "    print(\"Thursday\")\n",
    "elif (num==6):\n",
    "    print(\"Friday\")\n",
    "else:\n",
    "    print(\"Enter any number between 1 to 7\")\n",
    "    "
   ]
  },
  {
   "cell_type": "code",
   "execution_count": 23,
   "id": "8780614d-f878-4d73-8db1-1dde5b281172",
   "metadata": {},
   "outputs": [
    {
     "name": "stdin",
     "output_type": "stream",
     "text": [
      "Enter any number between 1 to 7: 5\n"
     ]
    }
   ],
   "source": [
    "num=int(input(\"Enter any number between 1 to 7:\"))"
   ]
  },
  {
   "cell_type": "code",
   "execution_count": 25,
   "id": "0d7a4e47-26cc-4625-ad89-a86615c0c4d8",
   "metadata": {},
   "outputs": [
    {
     "name": "stdout",
     "output_type": "stream",
     "text": [
      "Thursday\n"
     ]
    }
   ],
   "source": [
    "if (num==1):\n",
    "    print(\"Sunday\")\n",
    "elif (num==2):\n",
    "    print(\"Monday\")\n",
    "elif (num==3):\n",
    "    print(\"Tuesday\")\n",
    "elif (num==4):\n",
    "    print(\"Wednesday\")\n",
    "elif (num==5):\n",
    "    print(\"Thursday\")\n",
    "elif (num==6):\n",
    "    print(\"Friday\")\n",
    "else:\n",
    "    print(\"Enter any number between 1 to 7\")\n",
    "    "
   ]
  },
  {
   "cell_type": "code",
   "execution_count": 27,
   "id": "03bd5adb-6fe8-4545-bdca-5380dea84cc3",
   "metadata": {},
   "outputs": [
    {
     "name": "stdin",
     "output_type": "stream",
     "text": [
      "Enter any number between 1 to 7: 6\n"
     ]
    }
   ],
   "source": [
    "num=int(input(\"Enter any number between 1 to 7:\"))"
   ]
  },
  {
   "cell_type": "code",
   "execution_count": 29,
   "id": "86cbcff2-3426-44dc-9796-04cb99ec5237",
   "metadata": {},
   "outputs": [
    {
     "name": "stdout",
     "output_type": "stream",
     "text": [
      "Friday\n"
     ]
    }
   ],
   "source": [
    "if (num==1):\n",
    "    print(\"Sunday\")\n",
    "elif (num==2):\n",
    "    print(\"Monday\")\n",
    "elif (num==3):\n",
    "    print(\"Tuesday\")\n",
    "elif (num==4):\n",
    "    print(\"Wednesday\")\n",
    "elif (num==5):\n",
    "    print(\"Thursday\")\n",
    "elif (num==6):\n",
    "    print(\"Friday\")\n",
    "else:\n",
    "    print(\"Enter any number between 1 to 7\")\n",
    "    "
   ]
  },
  {
   "cell_type": "code",
   "execution_count": 31,
   "id": "f52ad8f7-cac8-4511-b643-b508e15105b7",
   "metadata": {},
   "outputs": [
    {
     "name": "stdin",
     "output_type": "stream",
     "text": [
      "Enter any number between 1 to 7: 7\n"
     ]
    }
   ],
   "source": [
    "num=int(input(\"Enter any number between 1 to 7:\"))"
   ]
  },
  {
   "cell_type": "code",
   "execution_count": 33,
   "id": "b8e4a1ba-b752-4c9f-98e4-7648fb18e6f8",
   "metadata": {},
   "outputs": [
    {
     "name": "stdout",
     "output_type": "stream",
     "text": [
      "Enter any number between 1 to 7\n"
     ]
    }
   ],
   "source": [
    "if (num==1):\n",
    "    print(\"Sunday\")\n",
    "elif (num==2):\n",
    "    print(\"Monday\")\n",
    "elif (num==3):\n",
    "    print(\"Tuesday\")\n",
    "elif (num==4):\n",
    "    print(\"Wednesday\")\n",
    "elif (num==5):\n",
    "    print(\"Thursday\")\n",
    "elif (num==6):\n",
    "    print(\"Friday\")\n",
    "else:\n",
    "    print(\"Enter any number between 1 to 7\")\n",
    "    "
   ]
  },
  {
   "cell_type": "code",
   "execution_count": null,
   "id": "1c8e0cd9-54e9-4f09-8496-0f5df4de7f62",
   "metadata": {},
   "outputs": [],
   "source": []
  }
 ],
 "metadata": {
  "kernelspec": {
   "display_name": "Python 3 (ipykernel)",
   "language": "python",
   "name": "python3"
  },
  "language_info": {
   "codemirror_mode": {
    "name": "ipython",
    "version": 3
   },
   "file_extension": ".py",
   "mimetype": "text/x-python",
   "name": "python",
   "nbconvert_exporter": "python",
   "pygments_lexer": "ipython3",
   "version": "3.12.4"
  }
 },
 "nbformat": 4,
 "nbformat_minor": 5
}
