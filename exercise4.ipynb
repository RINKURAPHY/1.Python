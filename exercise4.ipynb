{
 "cells": [
  {
   "cell_type": "code",
   "execution_count": 3,
   "id": "793e53ac-ada4-42ef-b4b6-b9f2208ca50c",
   "metadata": {},
   "outputs": [
    {
     "name": "stdin",
     "output_type": "stream",
     "text": [
      "Enter the number 6\n"
     ]
    }
   ],
   "source": [
    "num=int(input(\"Enter the number\"))\n",
    "        "
   ]
  },
  {
   "cell_type": "code",
   "execution_count": 7,
   "id": "fdf9862b-b67f-441f-8bea-ee0a7509eac3",
   "metadata": {},
   "outputs": [
    {
     "name": "stdout",
     "output_type": "stream",
     "text": [
      "num is divisible by3\n"
     ]
    }
   ],
   "source": [
    "if (num % 3==0):\n",
    "    print(\"num is divisible by3\")\n",
    "else:\n",
    "    print(\"num is not divisible by 3\")"
   ]
  },
  {
   "cell_type": "code",
   "execution_count": 9,
   "id": "4dce9f56-c591-42a4-8f67-00875aafa078",
   "metadata": {},
   "outputs": [
    {
     "name": "stdin",
     "output_type": "stream",
     "text": [
      "Enter the number 14\n"
     ]
    }
   ],
   "source": [
    "num=int(input(\"Enter the number\"))\n",
    "        "
   ]
  },
  {
   "cell_type": "code",
   "execution_count": 11,
   "id": "352a1fc0-e449-494b-acb8-2f8157320b2b",
   "metadata": {},
   "outputs": [
    {
     "name": "stdout",
     "output_type": "stream",
     "text": [
      "num is not divisible by 3\n"
     ]
    }
   ],
   "source": [
    "if (num % 3==0):\n",
    "    print(\"num is divisible by3\")\n",
    "else:\n",
    "    print(\"num is not divisible by 3\")"
   ]
  },
  {
   "cell_type": "code",
   "execution_count": 21,
   "id": "17a97ad1-33e1-4ba5-85ae-03829cdd6f23",
   "metadata": {},
   "outputs": [
    {
     "name": "stdin",
     "output_type": "stream",
     "text": [
      "Enter s1 120\n",
      "Enter s2 140\n",
      "Enter s3 100\n"
     ]
    }
   ],
   "source": [
    "s1=int(input(\"Enter s1\"))\n",
    "s2=int(input(\"Enter s2\"))\n",
    "s3=int(input(\"Enter s3\"))\n",
    "              "
   ]
  },
  {
   "cell_type": "code",
   "execution_count": 23,
   "id": "1924fc5c-7f58-42b5-9de7-d9bd36d82560",
   "metadata": {},
   "outputs": [
    {
     "name": "stdout",
     "output_type": "stream",
     "text": [
      "Triangle is possible\n"
     ]
    }
   ],
   "source": [
    "if(s1+s2 > s3 and s2+s3>s1 and s3+s1>s2):\n",
    "    print(\"Triangle is possible\")\n",
    "else:\n",
    "    print(\"Triangle is not possible\")"
   ]
  },
  {
   "cell_type": "code",
   "execution_count": 29,
   "id": "b955b26a-9fe4-49ad-8cce-ea580ea442bb",
   "metadata": {},
   "outputs": [
    {
     "name": "stdin",
     "output_type": "stream",
     "text": [
      "Enter s1 115\n",
      "Enter s2 45\n",
      "Enter s3 200\n"
     ]
    }
   ],
   "source": [
    "s1=int(input(\"Enter s1\"))\n",
    "s2=int(input(\"Enter s2\"))\n",
    "s3=int(input(\"Enter s3\"))\n",
    "              "
   ]
  },
  {
   "cell_type": "code",
   "execution_count": 31,
   "id": "7c51e04b-8c6e-4811-9073-870528bb873f",
   "metadata": {},
   "outputs": [
    {
     "name": "stdout",
     "output_type": "stream",
     "text": [
      "Triangle is not possible\n"
     ]
    }
   ],
   "source": [
    "if(s1+s2 > s3 and s2+s3>s1 and s3+s1>s2):\n",
    "    print(\"Triangle is possible\")\n",
    "else:\n",
    "    print(\"Triangle is not possible\")"
   ]
  },
  {
   "cell_type": "code",
   "execution_count": 33,
   "id": "e32995cc-a712-4d30-a562-73b37aa3627f",
   "metadata": {},
   "outputs": [
    {
     "name": "stdin",
     "output_type": "stream",
     "text": [
      "Enter s1 120\n",
      "Enter s2 120\n",
      "Enter s3 120\n"
     ]
    }
   ],
   "source": [
    "s1=int(input(\"Enter s1\"))\n",
    "s2=int(input(\"Enter s2\"))\n",
    "s3=int(input(\"Enter s3\"))\n",
    "              "
   ]
  },
  {
   "cell_type": "code",
   "execution_count": 35,
   "id": "423f1306-1a1d-47f7-a6c8-f5826b472d67",
   "metadata": {},
   "outputs": [
    {
     "ename": "SyntaxError",
     "evalue": "invalid syntax (2249669404.py, line 1)",
     "output_type": "error",
     "traceback": [
      "\u001b[1;36m  Cell \u001b[1;32mIn[35], line 1\u001b[1;36m\u001b[0m\n\u001b[1;33m    if(s1=s2=s3):\u001b[0m\n\u001b[1;37m         ^\u001b[0m\n\u001b[1;31mSyntaxError\u001b[0m\u001b[1;31m:\u001b[0m invalid syntax\n"
     ]
    }
   ],
   "source": [
    "if(s1=s2=s3):\n",
    "    print(\"equilateral triangle\")\n",
    "elif (s1!=s2!=s3):\n",
    "print(\"scalene triangle\")\n",
    "elif(s1=s2!=s3):\n",
    "    print(\"isoceles Triangle \")"
   ]
  },
  {
   "cell_type": "code",
   "execution_count": null,
   "id": "57ca86f7-ebbb-4815-a33a-bca7c7bbdc1b",
   "metadata": {},
   "outputs": [],
   "source": []
  }
 ],
 "metadata": {
  "kernelspec": {
   "display_name": "Python 3 (ipykernel)",
   "language": "python",
   "name": "python3"
  },
  "language_info": {
   "codemirror_mode": {
    "name": "ipython",
    "version": 3
   },
   "file_extension": ".py",
   "mimetype": "text/x-python",
   "name": "python",
   "nbconvert_exporter": "python",
   "pygments_lexer": "ipython3",
   "version": "3.12.4"
  }
 },
 "nbformat": 4,
 "nbformat_minor": 5
}
