{
 "cells": [
  {
   "cell_type": "code",
   "execution_count": 5,
   "id": "e6a6e289-b310-429c-9a40-7a87aacbea00",
   "metadata": {},
   "outputs": [
    {
     "name": "stdin",
     "output_type": "stream",
     "text": [
      "Enter the number 10\n"
     ]
    }
   ],
   "source": [
    "i=int(input(\"Enter the number\"))"
   ]
  },
  {
   "cell_type": "code",
   "execution_count": 11,
   "id": "8c6090d4-1185-41a3-bdd9-37ba81fb6ab7",
   "metadata": {},
   "outputs": [
    {
     "name": "stdout",
     "output_type": "stream",
     "text": [
      "correct\n"
     ]
    }
   ],
   "source": [
    "if i==10:\n",
    "    print(\"correct\")\n",
    "else:\n",
    "    print(\"wrong\")"
   ]
  },
  {
   "cell_type": "code",
   "execution_count": 57,
   "id": "3e8c642e-5b14-49ab-8043-8d4be1c0696b",
   "metadata": {},
   "outputs": [
    {
     "name": "stdin",
     "output_type": "stream",
     "text": [
      "ENTER THE PASSWORD HOPE@123\n"
     ]
    }
   ],
   "source": [
    "name=(input(\"ENTER THE PASSWORD\")):"
   ]
  },
  {
   "cell_type": "code",
   "execution_count": 65,
   "id": "54488a25-0c41-48db-b3d9-c91a7f3231a8",
   "metadata": {},
   "outputs": [
    {
     "ename": "NameError",
     "evalue": "name 'HOPE' is not defined",
     "output_type": "error",
     "traceback": [
      "\u001b[1;31m---------------------------------------------------------------------------\u001b[0m",
      "\u001b[1;31mNameError\u001b[0m                                 Traceback (most recent call last)",
      "Cell \u001b[1;32mIn[65], line 1\u001b[0m\n\u001b[1;32m----> 1\u001b[0m \u001b[38;5;28;01mif\u001b[39;00m(password\u001b[38;5;241m==\u001b[39mHOPE\u001b[38;5;241m@\u001b[39m\u001b[38;5;241m123\u001b[39m):\n\u001b[0;32m      2\u001b[0m     \u001b[38;5;28mprint\u001b[39m(\u001b[38;5;124m\"\u001b[39m\u001b[38;5;124mCORRECT\u001b[39m\u001b[38;5;124m\"\u001b[39m)\n\u001b[0;32m      3\u001b[0m \u001b[38;5;28;01melse\u001b[39;00m:\n",
      "\u001b[1;31mNameError\u001b[0m: name 'HOPE' is not defined"
     ]
    }
   ],
   "source": [
    "if(password==HOPE@123):\n",
    "    print(\"CORRECT\")\n",
    "else:\n",
    "    print(\"wrong\")"
   ]
  },
  {
   "cell_type": "code",
   "execution_count": 39,
   "id": "e3b5dfe1-8d74-4878-92d9-b1cbe6cb0818",
   "metadata": {},
   "outputs": [
    {
     "name": "stdin",
     "output_type": "stream",
     "text": [
      "1.Enter the age 20\n"
     ]
    }
   ],
   "source": [
    "age=int(input(\"1.Enter the age\"))\n"
   ]
  },
  {
   "cell_type": "code",
   "execution_count": 41,
   "id": "08e98f3a-96e5-460b-a117-85f00e4b5314",
   "metadata": {},
   "outputs": [
    {
     "name": "stdout",
     "output_type": "stream",
     "text": [
      "Adult\n"
     ]
    }
   ],
   "source": [
    "if(age<18):\n",
    "    print(\"child\")\n",
    "elif(age<35):\n",
    "    print(\"Adult\")\n",
    "elif(age<59):\n",
    "    print(\"citizen\")\n",
    "else:\n",
    "    print(\"sr.citizen\")"
   ]
  },
  {
   "cell_type": "code",
   "execution_count": 49,
   "id": "160def68-e869-4b48-b3ac-5a08a579443d",
   "metadata": {},
   "outputs": [
    {
     "name": "stdin",
     "output_type": "stream",
     "text": [
      "Enter any number 1\n"
     ]
    }
   ],
   "source": [
    "num=int(input(\"Enter any number\"))"
   ]
  },
  {
   "cell_type": "code",
   "execution_count": 51,
   "id": "af2a1f28-0ec7-4814-abf0-df6b801bc998",
   "metadata": {},
   "outputs": [
    {
     "name": "stdout",
     "output_type": "stream",
     "text": [
      "POSITIVE\n"
     ]
    }
   ],
   "source": [
    "if(num>=1):\n",
    "    print(\"POSITIVE\")\n",
    "else:\n",
    "    print(\"NEGATIVE\")"
   ]
  },
  {
   "cell_type": "code",
   "execution_count": 53,
   "id": "41009ff8-eb2d-4c1d-a21c-ccdff21600d8",
   "metadata": {},
   "outputs": [
    {
     "name": "stdin",
     "output_type": "stream",
     "text": [
      "Enter the number 22\n"
     ]
    }
   ],
   "source": [
    "num=int(input(\"Enter the number\"))"
   ]
  },
  {
   "cell_type": "code",
   "execution_count": 55,
   "id": "3988da74-6595-4b97-a768-27ef95ba2628",
   "metadata": {},
   "outputs": [
    {
     "name": "stdout",
     "output_type": "stream",
     "text": [
      "num is not divisible by 5\n"
     ]
    }
   ],
   "source": [
    "if (num % 5==0):\n",
    "    print(\"num is divisible by 5\")\n",
    "else:\n",
    "    print(\"num is not divisible by 5\")"
   ]
  }
 ],
 "metadata": {
  "kernelspec": {
   "display_name": "Python 3 (ipykernel)",
   "language": "python",
   "name": "python3"
  },
  "language_info": {
   "codemirror_mode": {
    "name": "ipython",
    "version": 3
   },
   "file_extension": ".py",
   "mimetype": "text/x-python",
   "name": "python",
   "nbconvert_exporter": "python",
   "pygments_lexer": "ipython3",
   "version": "3.12.4"
  }
 },
 "nbformat": 4,
 "nbformat_minor": 5
}
