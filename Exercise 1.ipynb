{
 "cells": [
  {
   "cell_type": "code",
   "execution_count": 3,
   "id": "555d9915-ed92-4db6-98b3-2d553b5bdc3a",
   "metadata": {},
   "outputs": [
    {
     "name": "stdin",
     "output_type": "stream",
     "text": [
      "Enter the marks 20\n"
     ]
    }
   ],
   "source": [
    "marks=int(input(\"Enter the marks\"))\n",
    "          \n",
    "          "
   ]
  },
  {
   "cell_type": "code",
   "execution_count": 11,
   "id": "9c6c0491-087e-424b-8c31-a40f19ced284",
   "metadata": {},
   "outputs": [
    {
     "name": "stdout",
     "output_type": "stream",
     "text": [
      "Grade D\n"
     ]
    }
   ],
   "source": [
    "if (marks>90):\n",
    "    print(\"Grade A\")\n",
    "elif (marks>80 and marks<=90):\n",
    "    print(\"Grade B\")\n",
    "elif (marks >=60 and marks<=80):\n",
    "    print(\"Grade C\")\n",
    "else :\n",
    "    print(\"Grade D\")\n"
   ]
  },
  {
   "cell_type": "code",
   "execution_count": 17,
   "id": "68417cfe-848e-4629-8c7b-875234e8e969",
   "metadata": {},
   "outputs": [
    {
     "name": "stdin",
     "output_type": "stream",
     "text": [
      "Enter the marks 75\n"
     ]
    }
   ],
   "source": [
    "marks=int(input(\"Enter the marks\"))\n",
    "          \n",
    "          "
   ]
  },
  {
   "cell_type": "code",
   "execution_count": 19,
   "id": "c3338a1d-a401-485e-a5f6-e6c0257c2a46",
   "metadata": {},
   "outputs": [
    {
     "name": "stdout",
     "output_type": "stream",
     "text": [
      "Grade C\n"
     ]
    }
   ],
   "source": [
    "if (marks>90):\n",
    "    print(\"Grade A\")\n",
    "elif (marks>80 and marks<=90):\n",
    "    print(\"Grade B\")\n",
    "elif (marks >=60 and marks<=80):\n",
    "    print(\"Grade C\")\n",
    "else :\n",
    "    print(\"Grade D\")\n"
   ]
  },
  {
   "cell_type": "code",
   "execution_count": 21,
   "id": "d58caf59-722d-4866-8799-72c8d6e142fc",
   "metadata": {},
   "outputs": [
    {
     "name": "stdin",
     "output_type": "stream",
     "text": [
      "Enter the marks 87\n"
     ]
    }
   ],
   "source": [
    "marks=int(input(\"Enter the marks\"))\n",
    "          \n",
    "          "
   ]
  },
  {
   "cell_type": "code",
   "execution_count": 23,
   "id": "bdaeeed4-e152-43ff-9074-f2d410b4e198",
   "metadata": {},
   "outputs": [
    {
     "name": "stdout",
     "output_type": "stream",
     "text": [
      "Grade B\n"
     ]
    }
   ],
   "source": [
    "if (marks>90):\n",
    "    print(\"Grade A\")\n",
    "elif (marks>80 and marks<=90):\n",
    "    print(\"Grade B\")\n",
    "elif (marks >=60 and marks<=80):\n",
    "    print(\"Grade C\")\n",
    "else :\n",
    "    print(\"Grade D\")\n"
   ]
  },
  {
   "cell_type": "code",
   "execution_count": 25,
   "id": "6335f191-5bd8-44c8-acdc-588da4af07d8",
   "metadata": {},
   "outputs": [
    {
     "name": "stdin",
     "output_type": "stream",
     "text": [
      "Enter the marks 96\n"
     ]
    }
   ],
   "source": [
    "marks=int(input(\"Enter the marks\"))\n",
    "          \n",
    "          "
   ]
  },
  {
   "cell_type": "code",
   "execution_count": 27,
   "id": "fbc6b215-a09d-48e4-8d4b-06be1aa01a34",
   "metadata": {},
   "outputs": [
    {
     "name": "stdout",
     "output_type": "stream",
     "text": [
      "Grade A\n"
     ]
    }
   ],
   "source": [
    "if (marks>90):\n",
    "    print(\"Grade A\")\n",
    "elif (marks>80 and marks<=90):\n",
    "    print(\"Grade B\")\n",
    "elif (marks >=60 and marks<=80):\n",
    "    print(\"Grade C\")\n",
    "else :\n",
    "    print(\"Grade D\")\n"
   ]
  },
  {
   "cell_type": "code",
   "execution_count": null,
   "id": "303df4ef-ee4e-46b0-8f5f-6fec30c48872",
   "metadata": {},
   "outputs": [],
   "source": []
  }
 ],
 "metadata": {
  "kernelspec": {
   "display_name": "Python 3 (ipykernel)",
   "language": "python",
   "name": "python3"
  },
  "language_info": {
   "codemirror_mode": {
    "name": "ipython",
    "version": 3
   },
   "file_extension": ".py",
   "mimetype": "text/x-python",
   "name": "python",
   "nbconvert_exporter": "python",
   "pygments_lexer": "ipython3",
   "version": "3.12.4"
  }
 },
 "nbformat": 4,
 "nbformat_minor": 5
}
