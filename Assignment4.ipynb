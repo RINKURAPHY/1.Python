{
 "cells": [
  {
   "cell_type": "code",
   "execution_count": 35,
   "id": "b9e4bbea-9095-422d-95f8-fda7b7f67cd4",
   "metadata": {},
   "outputs": [
    {
     "name": "stdin",
     "output_type": "stream",
     "text": [
      "Enter the number: 52452\n"
     ]
    }
   ],
   "source": [
    "num=int(input(\"Enter the number:\"))"
   ]
  },
  {
   "cell_type": "code",
   "execution_count": 43,
   "id": "4dec5452-0a12-48d6-bae0-af6d4ed8ebd9",
   "metadata": {},
   "outputs": [],
   "source": [
    "def numcategory():\n",
    "    if(num%2==1):\n",
    "        prinT(\"ODD NUMBER\")\n",
    "        cate=\"ODD NUMBER\"\n",
    "    else:\n",
    "        print(\"EVEN NUMBER\")\n",
    "        cate=\"EVEN NUMBER\"\n",
    "    return cate"
   ]
  },
  {
   "cell_type": "code",
   "execution_count": 47,
   "id": "5dcc4bd0-c4ea-49f9-a3a6-f972b88efea7",
   "metadata": {},
   "outputs": [
    {
     "name": "stdout",
     "output_type": "stream",
     "text": [
      "EVEN NUMBER\n"
     ]
    }
   ],
   "source": [
    "numcate=numcategory()"
   ]
  },
  {
   "cell_type": "code",
   "execution_count": 89,
   "id": "5b3247ee-88df-438f-a0ec-43dfdeec1d6b",
   "metadata": {},
   "outputs": [
    {
     "name": "stdin",
     "output_type": "stream",
     "text": [
      "Enter your gender: Male\n",
      "Enter your age: 20\n"
     ]
    }
   ],
   "source": [
    "gender=(input(\"Enter your gender:\"))\n",
    "age=int(input(\"Enter your age:\"))\n"
   ]
  },
  {
   "cell_type": "code",
   "execution_count": 127,
   "id": "13299923-7122-4c3f-8715-5417dada6e14",
   "metadata": {},
   "outputs": [],
   "source": [
    "def print_list_items(my_list):\n",
    "    for item in my_list:\n",
    "        print(item) "
   ]
  },
  {
   "cell_type": "code",
   "execution_count": 129,
   "id": "bad219a1-94dc-45ae-a58b-e81842bb2f8c",
   "metadata": {},
   "outputs": [
    {
     "name": "stdout",
     "output_type": "stream",
     "text": [
      "apple\n",
      "banana\n",
      "orange\n",
      "mango\n"
     ]
    }
   ],
   "source": [
    "my_fruits = [\"apple\", \"banana\", \"orange\", \"mango\"] \n",
    "print_list_items(my_fruits)"
   ]
  },
  {
   "cell_type": "code",
   "execution_count": 135,
   "id": "f1474c7a-1488-4d54-be5e-86f5c80f3040",
   "metadata": {},
   "outputs": [],
   "source": [
    "def print_list_items(my_list):\n",
    "    for item in my_list:\n",
    "        print(item) "
   ]
  },
  {
   "cell_type": "code",
   "execution_count": 137,
   "id": "9dfed3a0-66e5-4ad8-91ce-96b4a5d03822",
   "metadata": {},
   "outputs": [
    {
     "name": "stdout",
     "output_type": "stream",
     "text": [
      "machine learning\n",
      "neural networks\n",
      "vision\n",
      "robotics\n",
      "speech processing\n",
      "natural language processing\n"
     ]
    }
   ],
   "source": [
    "subfields=[\"machine learning\",\"neural networks\",\"vision\",\"robotics\",\"speech processing\",\"natural language processing\"]\n",
    "print_list_items(subfields)"
   ]
  },
  {
   "cell_type": "code",
   "execution_count": 5,
   "id": "6bf34bfd-13f5-47e8-8b4b-f7043909dda6",
   "metadata": {},
   "outputs": [
    {
     "name": "stdin",
     "output_type": "stream",
     "text": [
      "Enter your gender: male\n",
      "Enter your age: 20\n"
     ]
    },
    {
     "name": "stdout",
     "output_type": "stream",
     "text": [
      "INVALID INPUT DATA\n"
     ]
    }
   ],
   "source": [
    "gender=input(\"Enter your gender:\");\n",
    "age=int(input(\"Enter your age:\"));\n",
    "elg='ELIGIBLE';\n",
    "nelg='NOT ELIGIBLE';\n",
    "if(gender=='M'):\n",
    "  if(age >=21):\n",
    "    print(elg);\n",
    "  else:\n",
    "    print(nelg);\n",
    "elif(gender=='F'):\n",
    "  if(age >18):\n",
    "    print(elg);\n",
    "  else:\n",
    "    print(nelg);\n",
    "else:\n",
    "  print('INVALID INPUT DATA')"
   ]
  },
  {
   "cell_type": "code",
   "execution_count": 34,
   "id": "fa9e8d54-9054-4c13-8fd5-5482ea89a4d0",
   "metadata": {},
   "outputs": [
    {
     "name": "stdin",
     "output_type": "stream",
     "text": [
      " 98\n",
      " 87\n",
      " 95\n",
      " 95\n",
      " 93\n"
     ]
    }
   ],
   "source": [
    "\n",
    "S1=float(input())\n",
    "S2=float(input())\n",
    "S3=float(input())\n",
    "S4=float(input())\n",
    "S5=float(input())"
   ]
  },
  {
   "cell_type": "code",
   "execution_count": 36,
   "id": "48ed4e8a-d8fa-4ffb-ba55-189644613d09",
   "metadata": {},
   "outputs": [
    {
     "name": "stdout",
     "output_type": "stream",
     "text": [
      "468.0\n"
     ]
    }
   ],
   "source": [
    "total = S1 + S2 + S3 + S4 + S5;\n",
    "print (total)"
   ]
  },
  {
   "cell_type": "code",
   "execution_count": 38,
   "id": "76455701-51ec-4265-a5f1-318b712297ed",
   "metadata": {},
   "outputs": [
    {
     "name": "stdout",
     "output_type": "stream",
     "text": [
      "93.6\n"
     ]
    }
   ],
   "source": [
    "average = total/5.0;\n",
    "print(average)"
   ]
  },
  {
   "cell_type": "code",
   "execution_count": 40,
   "id": "573a904a-0c26-49ef-939b-020f8586e0f8",
   "metadata": {},
   "outputs": [
    {
     "name": "stdout",
     "output_type": "stream",
     "text": [
      "93.60000000000001\n"
     ]
    }
   ],
   "source": [
    "percentage = (total / 500.0) * 100;\n",
    "print(percentage)"
   ]
  },
  {
   "cell_type": "code",
   "execution_count": 60,
   "id": "4129719b-b601-47cd-bd77-05313349040e",
   "metadata": {},
   "outputs": [
    {
     "name": "stdin",
     "output_type": "stream",
     "text": [
      "Enter the height: 32\n",
      "enter the breadth: 34\n"
     ]
    }
   ],
   "source": [
    "height=float(input(\"Enter the height:\"))\n",
    "breadth=float(input(\"enter the breadth:\"))"
   ]
  },
  {
   "cell_type": "code",
   "execution_count": 78,
   "id": "fe0e6a57-4e12-45a1-b859-57205a08081a",
   "metadata": {},
   "outputs": [
    {
     "name": "stdout",
     "output_type": "stream",
     "text": [
      "544.0\n"
     ]
    }
   ],
   "source": [
    "area =(height*breadth) / 2;\n",
    "print(area)"
   ]
  },
  {
   "cell_type": "code",
   "execution_count": 72,
   "id": "d452fb47-f54c-48fd-accc-7ec6ae48d407",
   "metadata": {},
   "outputs": [
    {
     "name": "stdin",
     "output_type": "stream",
     "text": [
      "Enter side1 2\n",
      "Enter side2 4\n",
      "Enter side3 4\n"
     ]
    }
   ],
   "source": [
    "s1=float(input(\"Enter side1\"))\n",
    "s2=float(input(\"Enter side2\"))\n",
    "s3=float(input(\"Enter side3\"))\n",
    "               "
   ]
  },
  {
   "cell_type": "code",
   "execution_count": 74,
   "id": "e15584fa-3a81-4f01-8d7e-51fe7f2453de",
   "metadata": {},
   "outputs": [
    {
     "name": "stdout",
     "output_type": "stream",
     "text": [
      "10.0\n"
     ]
    }
   ],
   "source": [
    "perimeter=s1+s2+s3;\n",
    "print(perimeter)"
   ]
  },
  {
   "cell_type": "code",
   "execution_count": null,
   "id": "4c7aeac6-d99c-4f73-9e52-4b47fdde77f8",
   "metadata": {},
   "outputs": [],
   "source": []
  }
 ],
 "metadata": {
  "kernelspec": {
   "display_name": "Python 3 (ipykernel)",
   "language": "python",
   "name": "python3"
  },
  "language_info": {
   "codemirror_mode": {
    "name": "ipython",
    "version": 3
   },
   "file_extension": ".py",
   "mimetype": "text/x-python",
   "name": "python",
   "nbconvert_exporter": "python",
   "pygments_lexer": "ipython3",
   "version": "3.12.4"
  }
 },
 "nbformat": 4,
 "nbformat_minor": 5
}
