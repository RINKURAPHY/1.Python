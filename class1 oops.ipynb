{
 "cells": [
  {
   "cell_type": "code",
   "execution_count": 35,
   "id": "8506dcfb-a45f-435e-968d-e64ac204e213",
   "metadata": {},
   "outputs": [],
   "source": [
    "class multiplefunctions():\n",
    "    def oddeven():\n",
    "        num=int(input(\"enter the number\"))\n",
    "        if((num%2)==1):\n",
    "            print(\"odd number\")\n",
    "            message=\"odd number\"\n",
    "        else:\n",
    "            print(\"even number\")\n",
    "            message=\"even number\"\n",
    "        return message\n",
    "\n",
    "    def bmi():\n",
    "        bmi=int(input(\"Enter BMI\"))\n",
    "        if (bmi<18.5):\n",
    "            print(\"uw\")\n",
    "            message=\"uw\"\n",
    "        elif (bmi<24.9):\n",
    "            print(\"normal\")\n",
    "            message=\"normal\"\n",
    "        elif (bmi<29.9):\n",
    "            print(\"ovw\")\n",
    "            message=\"ovw\"\n",
    "        else:\n",
    "            print(\"vovw\")\n",
    "            message=\"vovw\"\n",
    "        return message\n",
    "        \n",
    "\n",
    "\n",
    "    "
   ]
  },
  {
   "cell_type": "code",
   "execution_count": 37,
   "id": "b1f80cda-8c8d-4f27-9595-b051c51a2f1e",
   "metadata": {},
   "outputs": [
    {
     "name": "stdin",
     "output_type": "stream",
     "text": [
      "Enter BMI 25\n"
     ]
    },
    {
     "name": "stdout",
     "output_type": "stream",
     "text": [
      "ovw\n"
     ]
    },
    {
     "data": {
      "text/plain": [
       "'ovw'"
      ]
     },
     "execution_count": 37,
     "metadata": {},
     "output_type": "execute_result"
    }
   ],
   "source": [
    "multiplefunctions.bmi()"
   ]
  },
  {
   "cell_type": "code",
   "execution_count": 41,
   "id": "b83c948d-4a52-4271-be18-e1c5478c55e2",
   "metadata": {},
   "outputs": [
    {
     "name": "stdin",
     "output_type": "stream",
     "text": [
      "enter the number 56\n"
     ]
    },
    {
     "name": "stdout",
     "output_type": "stream",
     "text": [
      "even number\n"
     ]
    },
    {
     "data": {
      "text/plain": [
       "'even number'"
      ]
     },
     "execution_count": 41,
     "metadata": {},
     "output_type": "execute_result"
    }
   ],
   "source": [
    "multiplefunctions.oddeven()"
   ]
  },
  {
   "cell_type": "code",
   "execution_count": null,
   "id": "4418a5af-d7c9-46d0-902d-a262f7c79a4e",
   "metadata": {},
   "outputs": [],
   "source": []
  }
 ],
 "metadata": {
  "kernelspec": {
   "display_name": "Python 3 (ipykernel)",
   "language": "python",
   "name": "python3"
  },
  "language_info": {
   "codemirror_mode": {
    "name": "ipython",
    "version": 3
   },
   "file_extension": ".py",
   "mimetype": "text/x-python",
   "name": "python",
   "nbconvert_exporter": "python",
   "pygments_lexer": "ipython3",
   "version": "3.12.4"
  }
 },
 "nbformat": 4,
 "nbformat_minor": 5
}
