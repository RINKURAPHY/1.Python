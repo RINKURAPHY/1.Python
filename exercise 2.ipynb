{
 "cells": [
  {
   "cell_type": "code",
   "execution_count": 19,
   "id": "7df452a3-664d-4010-8f9f-ccea2c944c1e",
   "metadata": {},
   "outputs": [
    {
     "name": "stdin",
     "output_type": "stream",
     "text": [
      "Enter the cost price of bike 170000\n"
     ]
    }
   ],
   "source": [
    "costprice=int(input(\"Enter the cost price of bike\"))"
   ]
  },
  {
   "cell_type": "code",
   "execution_count": 23,
   "id": "85bc8f32-f0ee-4eb2-8d5d-76de117efd12",
   "metadata": {},
   "outputs": [
    {
     "name": "stdout",
     "output_type": "stream",
     "text": [
      "Tax is 15%\n"
     ]
    }
   ],
   "source": [
    "if (costprice>100000):\n",
    "    print(\"Tax is 15%\")\n",
    "elif(costprice>50000 and costprice<=100000):\n",
    "    print(\"Tax is 10%\")\n",
    "else:\n",
    "    print (\"Tax is 5%\")"
   ]
  },
  {
   "cell_type": "code",
   "execution_count": 25,
   "id": "b97f6fc3-74d2-4172-a3dc-4d9d48fc0f21",
   "metadata": {},
   "outputs": [
    {
     "name": "stdin",
     "output_type": "stream",
     "text": [
      "Enter the cost price of bike 75000\n"
     ]
    }
   ],
   "source": [
    "costprice=int(input(\"Enter the cost price of bike\"))"
   ]
  },
  {
   "cell_type": "code",
   "execution_count": 27,
   "id": "fd97ee1c-6c3e-43c9-9616-059fcb0f49b7",
   "metadata": {},
   "outputs": [
    {
     "name": "stdout",
     "output_type": "stream",
     "text": [
      "Tax is 10%\n"
     ]
    }
   ],
   "source": [
    "if (costprice>100000):\n",
    "    print(\"Tax is 15%\")\n",
    "elif(costprice>50000 and costprice<=100000):\n",
    "    print(\"Tax is 10%\")\n",
    "else:\n",
    "    print (\"Tax is 5%\")"
   ]
  },
  {
   "cell_type": "code",
   "execution_count": 29,
   "id": "c6b19a07-5bb3-4f0d-b72d-2ee55e8bcb70",
   "metadata": {},
   "outputs": [
    {
     "name": "stdin",
     "output_type": "stream",
     "text": [
      "Enter the cost price of bike 35000\n"
     ]
    }
   ],
   "source": [
    "costprice=int(input(\"Enter the cost price of bike\"))"
   ]
  },
  {
   "cell_type": "code",
   "execution_count": 31,
   "id": "17cfb0ec-82e9-4694-8654-4cae7fb5cf1b",
   "metadata": {},
   "outputs": [
    {
     "name": "stdout",
     "output_type": "stream",
     "text": [
      "Tax is 5%\n"
     ]
    }
   ],
   "source": [
    "if (costprice>100000):\n",
    "    print(\"Tax is 15%\")\n",
    "elif(costprice>50000 and costprice<=100000):\n",
    "    print(\"Tax is 10%\")\n",
    "else:\n",
    "    print (\"Tax is 5%\")"
   ]
  },
  {
   "cell_type": "code",
   "execution_count": null,
   "id": "45b0e520-438c-400e-9650-5e1fdecbe1ce",
   "metadata": {},
   "outputs": [],
   "source": []
  }
 ],
 "metadata": {
  "kernelspec": {
   "display_name": "Python 3 (ipykernel)",
   "language": "python",
   "name": "python3"
  },
  "language_info": {
   "codemirror_mode": {
    "name": "ipython",
    "version": 3
   },
   "file_extension": ".py",
   "mimetype": "text/x-python",
   "name": "python",
   "nbconvert_exporter": "python",
   "pygments_lexer": "ipython3",
   "version": "3.12.4"
  }
 },
 "nbformat": 4,
 "nbformat_minor": 5
}
