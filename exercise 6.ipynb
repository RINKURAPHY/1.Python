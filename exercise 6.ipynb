{
 "cells": [
  {
   "cell_type": "code",
   "execution_count": 3,
   "id": "db074b59-1368-4c65-8744-0d7341d8868c",
   "metadata": {},
   "outputs": [],
   "source": [
    "def markscategory():\n",
    "    if (marks>90):\n",
    "       print(\"Grade A\")\n",
    "       cate=\"Grade A\"\n",
    "    elif (marks>80 and marks<=90):\n",
    "        print(\"Grade B\")\n",
    "        cate=\"Grade B\"\n",
    "    elif (marks >=60 and marks<=80):\n",
    "        print(\"Grade C\")\n",
    "        cate=\"Grade C\"\n",
    "    else:\n",
    "        print(\"Grade D\")\n",
    "        cate=\"Grade D\"\n",
    "        return cate\n",
    "    "
   ]
  },
  {
   "cell_type": "code",
   "execution_count": 11,
   "id": "2ab05ef4-a304-4a6f-87c9-ce553d6680d7",
   "metadata": {},
   "outputs": [
    {
     "name": "stdin",
     "output_type": "stream",
     "text": [
      "Enter the marks: 45\n"
     ]
    },
    {
     "name": "stdout",
     "output_type": "stream",
     "text": [
      "Grade D\n"
     ]
    }
   ],
   "source": [
    "marks=int(input(\"Enter the marks:\"))\n",
    "cate=markscategory()\n"
   ]
  },
  {
   "cell_type": "code",
   "execution_count": null,
   "id": "ecb5db51-7476-4a74-9f17-8b2c64ef50ed",
   "metadata": {},
   "outputs": [],
   "source": [
    "def markscategorynor():\n",
    "    if (marks>90):\n",
    "       print(\"Grade A\")\n",
    "       cate=\"Grade A\"\n",
    "    elif (marks>80 and marks<=90):\n",
    "        print(\"Grade B\")\n",
    "        cate=\"Grade B\"\n",
    "    elif (marks >=60 and marks<=80):\n",
    "        print(\"Grade C\")\n",
    "        cate=\"Grade C\"\n",
    "    else:\n",
    "        print(\"Grade D\")\n",
    "        cate=\"Grade D\""
   ]
  },
  {
   "cell_type": "code",
   "execution_count": 21,
   "id": "fc5c61ea-0fbb-41e4-95af-d7d5cb7ed371",
   "metadata": {},
   "outputs": [
    {
     "name": "stdin",
     "output_type": "stream",
     "text": [
      "Enter the marks: 85\n"
     ]
    },
    {
     "ename": "NameError",
     "evalue": "name 'markscategorynor' is not defined",
     "output_type": "error",
     "traceback": [
      "\u001b[1;31m---------------------------------------------------------------------------\u001b[0m",
      "\u001b[1;31mNameError\u001b[0m                                 Traceback (most recent call last)",
      "Cell \u001b[1;32mIn[21], line 2\u001b[0m\n\u001b[0;32m      1\u001b[0m marks\u001b[38;5;241m=\u001b[39m\u001b[38;5;28mint\u001b[39m(\u001b[38;5;28minput\u001b[39m(\u001b[38;5;124m\"\u001b[39m\u001b[38;5;124mEnter the marks:\u001b[39m\u001b[38;5;124m\"\u001b[39m))\n\u001b[1;32m----> 2\u001b[0m cate\u001b[38;5;241m=\u001b[39mmarkscategorynor()\n",
      "\u001b[1;31mNameError\u001b[0m: name 'markscategorynor' is not defined"
     ]
    }
   ],
   "source": [
    "marks=int(input(\"Enter the marks:\"))\n",
    "cate=markscategorynor()"
   ]
  },
  {
   "cell_type": "code",
   "execution_count": 23,
   "id": "95cae470-81ba-4138-a1c7-095f7fc3574d",
   "metadata": {},
   "outputs": [
    {
     "name": "stdout",
     "output_type": "stream",
     "text": [
      "None\n"
     ]
    }
   ],
   "source": [
    "print(cate)"
   ]
  },
  {
   "cell_type": "code",
   "execution_count": null,
   "id": "3c473bc4-d71d-4386-99e1-1f2103df41bc",
   "metadata": {},
   "outputs": [],
   "source": []
  }
 ],
 "metadata": {
  "kernelspec": {
   "display_name": "Python 3 (ipykernel)",
   "language": "python",
   "name": "python3"
  },
  "language_info": {
   "codemirror_mode": {
    "name": "ipython",
    "version": 3
   },
   "file_extension": ".py",
   "mimetype": "text/x-python",
   "name": "python",
   "nbconvert_exporter": "python",
   "pygments_lexer": "ipython3",
   "version": "3.12.4"
  }
 },
 "nbformat": 4,
 "nbformat_minor": 5
}
