{
 "cells": [
  {
   "cell_type": "code",
   "execution_count": 19,
   "id": "30db971f-8e58-4b9f-9203-8e12ef2808cb",
   "metadata": {
    "scrolled": true
   },
   "outputs": [
    {
     "name": "stdin",
     "output_type": "stream",
     "text": [
      "1.Enter the age 18\n",
      "2.enter the age 20\n",
      "3.Enter the age 25\n"
     ]
    }
   ],
   "source": [
    "age=int(input(\"1.Enter the age\"))\n",
    "age=int(input(\"2.enter the age\"))\n",
    "age=int(input(\"3.Enter the age\"))"
   ]
  },
  {
   "cell_type": "code",
   "execution_count": 35,
   "id": "a5c02d04-5367-447d-a653-04380b51435b",
   "metadata": {},
   "outputs": [
    {
     "name": "stdout",
     "output_type": "stream",
     "text": [
      "Adult\n"
     ]
    }
   ],
   "source": [
    "if (age:=18):\n",
    "    print(\"Adult\")"
   ]
  },
  {
   "cell_type": "code",
   "execution_count": 45,
   "id": "cc1bbf7c-9e54-405a-b483-b065d8b877e6",
   "metadata": {},
   "outputs": [
    {
     "name": "stdin",
     "output_type": "stream",
     "text": [
      "1.Enter the age 18\n"
     ]
    }
   ],
   "source": [
    "age=int(input(\"1.Enter the age\"))"
   ]
  },
  {
   "cell_type": "code",
   "execution_count": 35,
   "id": "03708a32-1e9c-4b94-9132-4d877f6e7e68",
   "metadata": {},
   "outputs": [
    {
     "name": "stdout",
     "output_type": "stream",
     "text": [
      "Adult\n"
     ]
    }
   ],
   "source": [
    "if (age:=18):\n",
    "    print(\"Adult\")"
   ]
  },
  {
   "cell_type": "code",
   "execution_count": 47,
   "id": "3c0fe7fd-5448-4dc9-ab1e-71154db5af58",
   "metadata": {
    "scrolled": true
   },
   "outputs": [
    {
     "name": "stdin",
     "output_type": "stream",
     "text": [
      "1.Enter the age 12\n"
     ]
    }
   ],
   "source": [
    "age=int(input(\"1.Enter the age\"))\n"
   ]
  },
  {
   "cell_type": "code",
   "execution_count": 57,
   "id": "15796d7d-e1f6-4816-8ecc-f502fd790068",
   "metadata": {},
   "outputs": [
    {
     "name": "stdout",
     "output_type": "stream",
     "text": [
      "Adult\n"
     ]
    }
   ],
   "source": [
    "if(age:=18):\n",
    "    print(\"Adult\")\n",
    "else:\n",
    "    print(\"children\")\n",
    "    "
   ]
  },
  {
   "cell_type": "code",
   "execution_count": 59,
   "id": "cb2fe73e-bd7a-4c21-8219-437f6b8d3e39",
   "metadata": {
    "scrolled": true
   },
   "outputs": [
    {
     "name": "stdin",
     "output_type": "stream",
     "text": [
      "1.Enter the age 18\n"
     ]
    }
   ],
   "source": [
    "age=int(input(\"1.Enter the age\"))\n",
    "\n"
   ]
  },
  {
   "cell_type": "code",
   "execution_count": 70,
   "id": "40851df9-9d2d-402e-bed5-3a838e995cab",
   "metadata": {},
   "outputs": [
    {
     "name": "stdout",
     "output_type": "stream",
     "text": [
      "adult\n"
     ]
    }
   ],
   "source": [
    "if(age<18):\n",
    "    print(\"children\")\n",
    "else:\n",
    "    print(\"adult\")"
   ]
  },
  {
   "cell_type": "code",
   "execution_count": 74,
   "id": "74d88c7e-036c-4cc7-8add-fe6e02d116fe",
   "metadata": {
    "scrolled": true
   },
   "outputs": [
    {
     "name": "stdin",
     "output_type": "stream",
     "text": [
      "1.Enter the age 12\n"
     ]
    }
   ],
   "source": [
    "age=int(input(\"1.Enter the age\"))\n",
    "\n"
   ]
  },
  {
   "cell_type": "code",
   "execution_count": 76,
   "id": "1755669b-4d5b-42c0-a4b1-b5c6d7d83a38",
   "metadata": {},
   "outputs": [
    {
     "name": "stdout",
     "output_type": "stream",
     "text": [
      "children\n"
     ]
    }
   ],
   "source": [
    "if(age<18):\n",
    "    print(\"children\")\n",
    "else:\n",
    "    print(\"adult\")"
   ]
  },
  {
   "cell_type": "code",
   "execution_count": 80,
   "id": "a874ea62-58f7-4775-b335-a4e7abc7e758",
   "metadata": {
    "scrolled": true
   },
   "outputs": [
    {
     "name": "stdin",
     "output_type": "stream",
     "text": [
      "1.Enter the age 18\n",
      "2.enter the age 20\n",
      "3.Enter the age 25\n"
     ]
    }
   ],
   "source": [
    "age=int(input(\"1.Enter the age\"))\n",
    "age=int(input(\"2.enter the age\"))\n",
    "age=int(input(\"3.Enter the age\"))"
   ]
  },
  {
   "cell_type": "code",
   "execution_count": 82,
   "id": "32794bfa-573d-497e-b589-43f75899222c",
   "metadata": {},
   "outputs": [
    {
     "name": "stdout",
     "output_type": "stream",
     "text": [
      "adult\n"
     ]
    }
   ],
   "source": [
    "if(age<18):\n",
    "    print(\"children\")\n",
    "else:\n",
    "    print(\"adult\")"
   ]
  },
  {
   "cell_type": "code",
   "execution_count": 84,
   "id": "bf6161e6-a9df-41a0-a21a-a01a7a4c69ae",
   "metadata": {
    "scrolled": true
   },
   "outputs": [
    {
     "name": "stdin",
     "output_type": "stream",
     "text": [
      "1.Enter the age 12\n",
      "2.enter the age 15\n",
      "3.Enter the age 14\n"
     ]
    }
   ],
   "source": [
    "age=int(input(\"1.Enter the age\"))\n",
    "age=int(input(\"2.enter the age\"))\n",
    "age=int(input(\"3.Enter the age\"))"
   ]
  },
  {
   "cell_type": "code",
   "execution_count": 86,
   "id": "43961225-f4b3-4bd9-9c58-a7886f1b632f",
   "metadata": {},
   "outputs": [
    {
     "name": "stdout",
     "output_type": "stream",
     "text": [
      "children\n"
     ]
    }
   ],
   "source": [
    "if(age<18):\n",
    "    print(\"children\")\n",
    "else:\n",
    "    print(\"adult\")"
   ]
  },
  {
   "cell_type": "code",
   "execution_count": 94,
   "id": "140ee00e-0c47-4765-a6d6-8c2184e42277",
   "metadata": {
    "scrolled": true
   },
   "outputs": [
    {
     "name": "stdin",
     "output_type": "stream",
     "text": [
      "1.Enter the age 20\n",
      "2.enter the age 25\n",
      "3.Enter the age 28\n"
     ]
    }
   ],
   "source": [
    "age=int(input(\"1.Enter the age\"))\n",
    "age=int(input(\"2.enter the age\"))\n",
    "age=int(input(\"3.Enter the age\"))"
   ]
  },
  {
   "cell_type": "code",
   "execution_count": 98,
   "id": "51ea8547-1fcf-4a08-9978-88a68829c409",
   "metadata": {},
   "outputs": [
    {
     "name": "stdout",
     "output_type": "stream",
     "text": [
      "children\n"
     ]
    }
   ],
   "source": [
    "if(age<30):\n",
    "    print(\"children\")\n",
    "else:\n",
    "    print(\"adult\")"
   ]
  },
  {
   "cell_type": "code",
   "execution_count": 100,
   "id": "61a81e97-686f-499b-92b2-5f442dd50082",
   "metadata": {},
   "outputs": [
    {
     "name": "stdin",
     "output_type": "stream",
     "text": [
      "1.Enter the age 20\n",
      "2.Enter the age 30\n"
     ]
    }
   ],
   "source": [
    "age=int(input(\"1.Enter the age\"))\n",
    "age=int(input(\"2.Enter the age\"))\n",
    "        "
   ]
  },
  {
   "cell_type": "code",
   "execution_count": 104,
   "id": "f373fb2e-789e-4314-9e07-78f27d8dc52a",
   "metadata": {},
   "outputs": [
    {
     "name": "stdout",
     "output_type": "stream",
     "text": [
      "Adult\n"
     ]
    }
   ],
   "source": [
    "if (age>19):\n",
    "    print(\"Adult\")\n",
    "else:\n",
    "    print(\"youth\")"
   ]
  },
  {
   "cell_type": "code",
   "execution_count": 106,
   "id": "91d057dd-1b55-4b09-82f6-a62c7fa6b5ed",
   "metadata": {},
   "outputs": [
    {
     "name": "stdin",
     "output_type": "stream",
     "text": [
      "1.Enter the age 4\n"
     ]
    }
   ],
   "source": [
    "age=int(input(\"1.Enter the age\"))\n",
    "\n",
    "        "
   ]
  },
  {
   "cell_type": "code",
   "execution_count": 108,
   "id": "ad9d8192-aecb-4ae4-9e42-d7a7117f7523",
   "metadata": {},
   "outputs": [
    {
     "name": "stdout",
     "output_type": "stream",
     "text": [
      "child\n"
     ]
    }
   ],
   "source": [
    "if(age<18):\n",
    "    print(\"child\")\n",
    "elif(age<35):\n",
    "    print(\"Adult\")\n",
    "elif(age<59):\n",
    "    print(\"citizen\")\n",
    "else:\n",
    "    print(\"sr.citizen\")"
   ]
  },
  {
   "cell_type": "code",
   "execution_count": 110,
   "id": "a73cb1b2-3e2a-4bde-9670-272debc16059",
   "metadata": {},
   "outputs": [
    {
     "name": "stdin",
     "output_type": "stream",
     "text": [
      "1.Enter the age 25\n"
     ]
    }
   ],
   "source": [
    "age=int(input(\"1.Enter the age\"))\n",
    "\n",
    "        "
   ]
  },
  {
   "cell_type": "code",
   "execution_count": 112,
   "id": "3a3f1f2b-26bc-4e7c-ac08-7a0796176fe2",
   "metadata": {},
   "outputs": [
    {
     "name": "stdout",
     "output_type": "stream",
     "text": [
      "Adult\n"
     ]
    }
   ],
   "source": [
    "if(age<18):\n",
    "    print(\"child\")\n",
    "elif(age<35):\n",
    "    print(\"Adult\")\n",
    "elif(age<59):\n",
    "    print(\"citizen\")\n",
    "else:\n",
    "    print(\"sr.citizen\")"
   ]
  },
  {
   "cell_type": "code",
   "execution_count": 114,
   "id": "e27d2edd-cc44-4a3f-a676-62688bf396b1",
   "metadata": {},
   "outputs": [
    {
     "name": "stdin",
     "output_type": "stream",
     "text": [
      "1.Enter the age 40\n"
     ]
    }
   ],
   "source": [
    "age=int(input(\"1.Enter the age\"))\n",
    "\n",
    "        "
   ]
  },
  {
   "cell_type": "code",
   "execution_count": 116,
   "id": "82280289-51f1-40ff-83ae-d8ead5d1f353",
   "metadata": {},
   "outputs": [
    {
     "name": "stdout",
     "output_type": "stream",
     "text": [
      "citizen\n"
     ]
    }
   ],
   "source": [
    "if(age<18):\n",
    "    print(\"child\")\n",
    "elif(age<35):\n",
    "    print(\"Adult\")\n",
    "elif(age<59):\n",
    "    print(\"citizen\")\n",
    "else:\n",
    "    print(\"sr.citizen\")"
   ]
  },
  {
   "cell_type": "code",
   "execution_count": 122,
   "id": "152696a4-147d-4e36-9fa2-de6ce3ce37f3",
   "metadata": {},
   "outputs": [
    {
     "name": "stdin",
     "output_type": "stream",
     "text": [
      "1.Enter the age 64\n"
     ]
    }
   ],
   "source": [
    "age=int(input(\"1.Enter the age\"))\n",
    "\n",
    "        "
   ]
  },
  {
   "cell_type": "code",
   "execution_count": 124,
   "id": "3fab07f1-cae5-44c5-8195-47382d290524",
   "metadata": {},
   "outputs": [
    {
     "name": "stdout",
     "output_type": "stream",
     "text": [
      "sr.citizen\n"
     ]
    }
   ],
   "source": [
    "if(age<18):\n",
    "    print(\"child\")\n",
    "elif(age<35):\n",
    "    print(\"Adult\")\n",
    "elif(age<59):\n",
    "    print(\"citizen\")\n",
    "else:\n",
    "    print(\"sr.citizen\")"
   ]
  },
  {
   "cell_type": "code",
   "execution_count": 128,
   "id": "69086bd5-08ca-4437-9064-d2b695925154",
   "metadata": {},
   "outputs": [
    {
     "name": "stdin",
     "output_type": "stream",
     "text": [
      "1.Enter the age 25\n",
      "2.Enter the age 60\n"
     ]
    }
   ],
   "source": [
    "age=int(input(\"1.Enter the age\"))\n",
    "age=int(input(\"2.Enter the age\"))\n",
    "        "
   ]
  },
  {
   "cell_type": "code",
   "execution_count": 130,
   "id": "f2f49fd1-5c54-4bd7-9553-963e48116764",
   "metadata": {},
   "outputs": [
    {
     "name": "stdout",
     "output_type": "stream",
     "text": [
      "sr.citizen\n"
     ]
    }
   ],
   "source": [
    "if(age<18):\n",
    "    print(\"child\")\n",
    "elif(age<35):\n",
    "    print(\"Adult\")\n",
    "elif(age<59):\n",
    "    print(\"citizen\")\n",
    "else:\n",
    "    print(\"sr.citizen\")"
   ]
  },
  {
   "cell_type": "code",
   "execution_count": null,
   "id": "ef770f75-fc29-456b-bbf0-77c656c9ea4b",
   "metadata": {},
   "outputs": [],
   "source": []
  }
 ],
 "metadata": {
  "kernelspec": {
   "display_name": "Python 3 (ipykernel)",
   "language": "python",
   "name": "python3"
  },
  "language_info": {
   "codemirror_mode": {
    "name": "ipython",
    "version": 3
   },
   "file_extension": ".py",
   "mimetype": "text/x-python",
   "name": "python",
   "nbconvert_exporter": "python",
   "pygments_lexer": "ipython3",
   "version": "3.12.4"
  }
 },
 "nbformat": 4,
 "nbformat_minor": 5
}
